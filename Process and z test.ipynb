{
 "cells": [
  {
   "cell_type": "code",
   "execution_count": 1,
   "metadata": {
    "id": "BypyFu0NgltB"
   },
   "outputs": [],
   "source": [
    "import pandas as pd\n",
    "from scipy.stats import ttest_ind\n",
    "from statsmodels.stats.proportion import proportions_ztest"
   ]
  },
  {
   "cell_type": "code",
   "execution_count": null,
   "metadata": {
    "colab": {
     "base_uri": "https://localhost:8080/",
     "height": 600
    },
    "executionInfo": {
     "elapsed": 3742,
     "status": "ok",
     "timestamp": 1749692915508,
     "user": {
      "displayName": "Kiều Mai Nguyễn Xuân",
      "userId": "11576862274968380616"
     },
     "user_tz": -420
    },
    "id": "lgxNHwcOg1Uz",
    "outputId": "7ade356f-d072-443a-fad3-9cd36a2d70ad"
   },
   "outputs": [],
   "source": [
    "df = pd.read_csv(r\"C:\\Users\\Admin\\Downloads\\data_.csv\")\n",
    "df"
   ]
  },
  {
   "cell_type": "code",
   "execution_count": null,
   "metadata": {
    "colab": {
     "base_uri": "https://localhost:8080/"
    },
    "executionInfo": {
     "elapsed": 570,
     "status": "ok",
     "timestamp": 1749692916082,
     "user": {
      "displayName": "Kiều Mai Nguyễn Xuân",
      "userId": "11576862274968380616"
     },
     "user_tz": -420
    },
    "id": "2Erf5tfUg3tB",
    "outputId": "4f235d68-7da0-44a5-ec56-4712ce092623"
   },
   "outputs": [],
   "source": [
    "df.info()"
   ]
  },
  {
   "cell_type": "code",
   "execution_count": null,
   "metadata": {
    "colab": {
     "base_uri": "https://localhost:8080/"
    },
    "executionInfo": {
     "elapsed": 894,
     "status": "ok",
     "timestamp": 1749692917014,
     "user": {
      "displayName": "Kiều Mai Nguyễn Xuân",
      "userId": "11576862274968380616"
     },
     "user_tz": -420
    },
    "id": "u1ZLBVcAhAwI",
    "outputId": "14e3e0d1-6dac-48c0-fa1d-457d09fb383d"
   },
   "outputs": [],
   "source": [
    "df['date_time'] = pd.to_datetime(df['date_time'])\n",
    "df['day0'] = pd.to_datetime(df['day0'])\n",
    "df.info()"
   ]
  },
  {
   "cell_type": "code",
   "execution_count": null,
   "metadata": {
    "colab": {
     "base_uri": "https://localhost:8080/",
     "height": 147
    },
    "executionInfo": {
     "elapsed": 67,
     "status": "ok",
     "timestamp": 1749692917083,
     "user": {
      "displayName": "Kiều Mai Nguyễn Xuân",
      "userId": "11576862274968380616"
     },
     "user_tz": -420
    },
    "id": "3xarqQOUhYjc",
    "outputId": "69f92c37-eb73-4e92-c6cb-8d7ffd766111"
   },
   "outputs": [],
   "source": [
    "df.head(2)"
   ]
  },
  {
   "cell_type": "code",
   "execution_count": null,
   "metadata": {
    "colab": {
     "base_uri": "https://localhost:8080/",
     "height": 147
    },
    "executionInfo": {
     "elapsed": 42,
     "status": "ok",
     "timestamp": 1749692917132,
     "user": {
      "displayName": "Kiều Mai Nguyễn Xuân",
      "userId": "11576862274968380616"
     },
     "user_tz": -420
    },
    "id": "oKVKk1ABQViU",
    "outputId": "24d733c2-9956-4fe6-a8db-5c0563a0357e"
   },
   "outputs": [],
   "source": [
    "new_df = df\n",
    "new_df.head(2)"
   ]
  },
  {
   "cell_type": "code",
   "execution_count": null,
   "metadata": {
    "colab": {
     "base_uri": "https://localhost:8080/"
    },
    "executionInfo": {
     "elapsed": 130,
     "status": "ok",
     "timestamp": 1749692917299,
     "user": {
      "displayName": "Kiều Mai Nguyễn Xuân",
      "userId": "11576862274968380616"
     },
     "user_tz": -420
    },
    "id": "ne4hhtxUNJUK",
    "outputId": "fcfdfd95-7f30-46f4-c91b-d2cb422cf42b"
   },
   "outputs": [],
   "source": [
    "new_df['version'].unique()"
   ]
  },
  {
   "cell_type": "markdown",
   "metadata": {
    "id": "2XGQ8lHbyEJr"
   },
   "source": [
    "# Guide"
   ]
  },
  {
   "cell_type": "code",
   "execution_count": null,
   "metadata": {
    "colab": {
     "base_uri": "https://localhost:8080/",
     "height": 597
    },
    "executionInfo": {
     "elapsed": 623,
     "status": "ok",
     "timestamp": 1749692919181,
     "user": {
      "displayName": "Kiều Mai Nguyễn Xuân",
      "userId": "11576862274968380616"
     },
     "user_tz": -420
    },
    "id": "o2_0neusTIHk",
    "outputId": "6bb79778-255d-4391-b45c-3663206dcd8c"
   },
   "outputs": [],
   "source": [
    "# New players (day_diff = 0), playing at level 1\n",
    "new_user = new_df[(new_df['day_diff'] == 0) & (new_df['event_name'] == 'tutorial') & (new_df['level'] == 1)]\n",
    "new_user"
   ]
  },
  {
   "cell_type": "markdown",
   "metadata": {
    "id": "l4HZZthqy-2U"
   },
   "source": [
    "## Repeat view guide"
   ]
  },
  {
   "cell_type": "code",
   "execution_count": null,
   "metadata": {
    "colab": {
     "base_uri": "https://localhost:8080/",
     "height": 423
    },
    "executionInfo": {
     "elapsed": 132,
     "status": "ok",
     "timestamp": 1749693497298,
     "user": {
      "displayName": "Kiều Mai Nguyễn Xuân",
      "userId": "11576862274968380616"
     },
     "user_tz": -420
    },
    "id": "CnYKfmR7lPg4",
    "outputId": "cda77ad4-ad4a-4d63-bfa5-eef64d1e3567"
   },
   "outputs": [],
   "source": [
    "# qty = -1: start entering guide\n",
    "times = new_user[new_user['quantity'] == -1].groupby(['version', 'user']).agg(times_view_guide = ('STT', 'count')).reset_index()\n",
    "times"
   ]
  },
  {
   "cell_type": "markdown",
   "metadata": {
    "id": "4Kji3-3ZzT6L"
   },
   "source": [
    "## Finish step or not"
   ]
  },
  {
   "cell_type": "code",
   "execution_count": null,
   "metadata": {
    "colab": {
     "base_uri": "https://localhost:8080/",
     "height": 423
    },
    "executionInfo": {
     "elapsed": 101,
     "status": "ok",
     "timestamp": 1749693421612,
     "user": {
      "displayName": "Kiều Mai Nguyễn Xuân",
      "userId": "11576862274968380616"
     },
     "user_tz": -420
    },
    "id": "mjTjSELBYA-h",
    "outputId": "cfe27a15-1bbd-41ae-f2e7-110267d1aad4"
   },
   "outputs": [],
   "source": [
    "# qty = -2: completed all guide steps\n",
    "# qty = 0: skip guide\n",
    "finish = new_user[new_user['quantity'].isin([-2, 0])][['user', 'quantity', 'version']].drop_duplicates()\n",
    "finish['is_finish'] = finish.quantity.apply(lambda x: 0 if x == 0 else 1)\n",
    "finish"
   ]
  },
  {
   "cell_type": "markdown",
   "metadata": {
    "id": "5aHvJRKr25kT"
   },
   "source": [
    "## Final table"
   ]
  },
  {
   "cell_type": "code",
   "execution_count": null,
   "metadata": {
    "colab": {
     "base_uri": "https://localhost:8080/",
     "height": 423
    },
    "executionInfo": {
     "elapsed": 114,
     "status": "ok",
     "timestamp": 1749693613278,
     "user": {
      "displayName": "Kiều Mai Nguyễn Xuân",
      "userId": "11576862274968380616"
     },
     "user_tz": -420
    },
    "id": "OkNZfmM927p2",
    "outputId": "ee346753-7a28-4985-a375-cb17a8632eba"
   },
   "outputs": [],
   "source": [
    "final = pd.merge(times,\n",
    "         finish,\n",
    "         how = 'inner',\n",
    "         on = ['user', 'version'])\n",
    "\n",
    "final"
   ]
  },
  {
   "cell_type": "markdown",
   "metadata": {
    "id": "Yfh5UeMI2xkH"
   },
   "source": [
    "## Z test"
   ]
  },
  {
   "cell_type": "markdown",
   "metadata": {
    "id": "8p7Hsaff44_J"
   },
   "source": [
    "### completed"
   ]
  },
  {
   "cell_type": "markdown",
   "metadata": {
    "id": "myaI1UxG9mJL"
   },
   "source": [
    "Is there a difference between the completion rates of the tutorial in the old version and the new version?"
   ]
  },
  {
   "cell_type": "code",
   "execution_count": null,
   "metadata": {
    "colab": {
     "base_uri": "https://localhost:8080/",
     "height": 125
    },
    "executionInfo": {
     "elapsed": 74,
     "status": "ok",
     "timestamp": 1749693943735,
     "user": {
      "displayName": "Kiều Mai Nguyễn Xuân",
      "userId": "11576862274968380616"
     },
     "user_tz": -420
    },
    "id": "UAGBYUR_1HJJ",
    "outputId": "acfc7990-a934-42c0-8b07-3d00feb302fa"
   },
   "outputs": [],
   "source": [
    "finish_group = final.groupby('version').agg(total_user = ('user', 'nunique'),\n",
    "                             user_completed = ('is_finish', 'sum')).reset_index()\n",
    "\n",
    "finish_group['completion_rate'] = finish_group['user_completed'] / finish_group['total_user']\n",
    "\n",
    "finish_group"
   ]
  },
  {
   "cell_type": "code",
   "execution_count": 72,
   "metadata": {
    "colab": {
     "base_uri": "https://localhost:8080/"
    },
    "executionInfo": {
     "elapsed": 17,
     "status": "ok",
     "timestamp": 1749694339491,
     "user": {
      "displayName": "Kiều Mai Nguyễn Xuân",
      "userId": "11576862274968380616"
     },
     "user_tz": -420
    },
    "id": "foKnPl0Ejevx",
    "outputId": "8e1f0bf0-085f-4b0d-d5a8-4e49c39b3103"
   },
   "outputs": [
    {
     "name": "stdout",
     "output_type": "stream",
     "text": [
      "Z = -0.56, P-value = 0.5733\n",
      "There is no difference between the 2 versions\n"
     ]
    }
   ],
   "source": [
    "count = finish_group['user_completed'].values\n",
    "nobs = finish_group['total_user'].values\n",
    "\n",
    "z_stat, p_value = proportions_ztest(count, nobs)\n",
    "print(f'Z = {z_stat:.2f}, P-value = {p_value:.4f}')\n",
    "\n",
    "if p_value < 0.05:\n",
    "  print('There is a difference between the 2 versions')\n",
    "else:\n",
    "  print('There is no difference between the 2 versions')"
   ]
  },
  {
   "cell_type": "markdown",
   "metadata": {
    "id": "JadGdr448lri"
   },
   "source": [
    "### reguide"
   ]
  },
  {
   "cell_type": "markdown",
   "metadata": {
    "id": "KejAaWLQ9sio"
   },
   "source": [
    "Is there a difference in the review ratings of the instructions between the old version and the new version?"
   ]
  },
  {
   "cell_type": "markdown",
   "metadata": {},
   "source": [
    "- H0: review ratings verB (yes) = verA\n",
    "- H1: review ratings verB (yes) <> verA "
   ]
  },
  {
   "cell_type": "code",
   "execution_count": null,
   "metadata": {},
   "outputs": [],
   "source": [
    "reguide = pd.read_csv(r\"C:\\Users\\Admin\\Downloads\\reguide.csv\")\n",
    "reguide"
   ]
  },
  {
   "cell_type": "code",
   "execution_count": null,
   "metadata": {},
   "outputs": [],
   "source": [
    "reguide.groupby('version').sum()"
   ]
  },
  {
   "cell_type": "code",
   "execution_count": 67,
   "metadata": {},
   "outputs": [],
   "source": [
    "counts = [103, 100]\n",
    "nobs = [2435, 2846]"
   ]
  },
  {
   "cell_type": "code",
   "execution_count": 73,
   "metadata": {},
   "outputs": [
    {
     "name": "stdout",
     "output_type": "stream",
     "text": [
      "Z = 0.46, P-value = 0.6488\n",
      "There is no difference between the 2 versions\n"
     ]
    }
   ],
   "source": [
    "stat, pval = proportions_ztest(counts, nobs, alternative = 'two-sided')\n",
    "print(f'Z = {stat:.2f}, P-value = {pval:.4f}')\n",
    "\n",
    "if p_value < 0.05:\n",
    "  print('There is a difference between the 2 versions')\n",
    "else:\n",
    "  print('There is no difference between the 2 versions')"
   ]
  },
  {
   "cell_type": "markdown",
   "metadata": {},
   "source": [
    "### churn"
   ]
  },
  {
   "cell_type": "markdown",
   "metadata": {},
   "source": [
    "Is there a difference between the churn rates of the old version and the new version?"
   ]
  },
  {
   "cell_type": "markdown",
   "metadata": {},
   "source": [
    "- H0: churn rate verB >= verA\n",
    "- H1: churn rate verB < verA"
   ]
  },
  {
   "cell_type": "code",
   "execution_count": null,
   "metadata": {
    "id": "5mpyiwAM-O3b"
   },
   "outputs": [],
   "source": [
    "churn = pd.read_csv(r\"C:\\Users\\Admin\\Downloads\\churn.csv\")\n",
    "\n",
    "churn"
   ]
  },
  {
   "cell_type": "code",
   "execution_count": 90,
   "metadata": {},
   "outputs": [],
   "source": [
    "churn = [4230, 4087]\n",
    "total = [6669, 6927]"
   ]
  },
  {
   "cell_type": "code",
   "execution_count": 91,
   "metadata": {},
   "outputs": [
    {
     "name": "stdout",
     "output_type": "stream",
     "text": [
      "Z-stat = 5.294662020967035 p-value = 5.961836577265189e-08\n",
      "The churn rate of the new version is lower.\n"
     ]
    }
   ],
   "source": [
    "stat, pval = proportions_ztest(churn, total, alternative = 'larger')\n",
    "print(\"Z-stat =\", stat, \"p-value =\", pval)\n",
    "\n",
    "if pval < 0.05:\n",
    "  print('The churn rate of the new version is lower.')\n",
    "else:\n",
    "  print('The churn rate of the new version is higher.')"
   ]
  },
  {
   "cell_type": "markdown",
   "metadata": {},
   "source": [
    "### live plus"
   ]
  },
  {
   "cell_type": "markdown",
   "metadata": {},
   "source": [
    "Is there a difference between the used live plus rates of the old version and the new version?"
   ]
  },
  {
   "cell_type": "markdown",
   "metadata": {},
   "source": [
    "- H0: use live plus rate verB <= verA\n",
    "- H1: use live plus rate verB > verA"
   ]
  },
  {
   "cell_type": "code",
   "execution_count": null,
   "metadata": {},
   "outputs": [],
   "source": [
    "live = pd.read_csv(r\"C:\\Users\\Admin\\Downloads\\live.csv\")\n",
    "live"
   ]
  },
  {
   "cell_type": "code",
   "execution_count": 92,
   "metadata": {},
   "outputs": [],
   "source": [
    "counts = [839, 986]\n",
    "nobs = [5182, 5532]"
   ]
  },
  {
   "cell_type": "code",
   "execution_count": 93,
   "metadata": {},
   "outputs": [
    {
     "name": "stdout",
     "output_type": "stream",
     "text": [
      "p-value (two sided) = 0.02465080052895374\n"
     ]
    }
   ],
   "source": [
    "stat, pval_two_sided = proportions_ztest(counts, nobs, alternative='two-sided')\n",
    "print(\"p-value (two sided) =\", pval_two_sided)\n"
   ]
  },
  {
   "cell_type": "code",
   "execution_count": 95,
   "metadata": {},
   "outputs": [
    {
     "name": "stdout",
     "output_type": "stream",
     "text": [
      "Z-stat = -2.2468314574336454\n",
      "p-value (one sided, 1.6.0 > 1.5.2) = 0.01232540026447687\n",
      "The used live plus of the new version is higher\n"
     ]
    }
   ],
   "source": [
    "stat, pval_one_sided = proportions_ztest(counts, nobs, alternative='smaller')\n",
    "print(\"Z-stat =\", stat)\n",
    "print(\"p-value (one sided, 1.6.0 > 1.5.2) =\", pval_one_sided)\n",
    "\n",
    "if pval < 0.05:\n",
    "  print('The used live plus of the new version is higher')\n",
    "else:\n",
    "  print('The used live plus of the new version is lower')"
   ]
  },
  {
   "cell_type": "code",
   "execution_count": null,
   "metadata": {},
   "outputs": [],
   "source": []
  }
 ],
 "metadata": {
  "colab": {
   "authorship_tag": "ABX9TyN2T+uaT/U2r/IOD4T52Foz",
   "mount_file_id": "13KA8x-yZAvS6vFv5WrcBKWHmNVitdN1n",
   "provenance": [],
   "toc_visible": true
  },
  "kernelspec": {
   "display_name": "Python 3",
   "name": "python3"
  },
  "language_info": {
   "codemirror_mode": {
    "name": "ipython",
    "version": 3
   },
   "file_extension": ".py",
   "mimetype": "text/x-python",
   "name": "python",
   "nbconvert_exporter": "python",
   "pygments_lexer": "ipython3",
   "version": "3.13.3"
  }
 },
 "nbformat": 4,
 "nbformat_minor": 0
}
